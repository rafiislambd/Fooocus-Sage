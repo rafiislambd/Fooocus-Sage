{
 "cells": [
  {
   "cell_type": "code",
   "execution_count": null,
   "id": "97a9bede-c97f-4aa1-a3f7-9e4624690b3b",
   "metadata": {
    "tags": []
   },
   "outputs": [],
   "source": [
    "# Initialize variables\n",
    "from os import getcwd\n",
    "from os import path\n",
    "\n",
    "HOME_FOLDER = getcwd()\n",
    "print(HOME_FOLDER)\n",
    "TEMP_FOLDER = '/tmp'\n",
    "\n",
    "CKPT_FOLDER = f'{HOME_FOLDER}/UxFooocus/models/checkpoints-real-folder'\n",
    "LORA_FOLDER = HOME_FOLDER + '/UxFooocus/models/loras'\n",
    "\n",
    "print('done')"
   ]
  },
  {
   "cell_type": "code",
   "execution_count": null,
   "id": "5cb305c6-fb97-4598-8454-12dea316baea",
   "metadata": {
    "tags": []
   },
   "outputs": [],
   "source": [
    "# Clean up any corrupted files \n",
    "\n",
    "!rm -rf $CKPT_FOLDER/*.corrupted\n",
    "!rm -rf $HOME_FOLDER/UxFooocus/*.corrupted"
   ]
  },
  {
   "cell_type": "code",
   "execution_count": null,
   "id": "1c2fba7e-3ea7-4978-8b9e-ae0ac94e4788",
   "metadata": {},
   "outputs": [],
   "source": [
    "# Install a model to permanent storage\n",
    "model_url = 'https://civitai.com/api/download/models/169740?type=Model&format=SafeTensor&size=full&fp=fp16'\n",
    "model_name = 'ZavyChroma.safetensors'\n",
    "# ---\n",
    "\n",
    "%cd $CKPT_FOLDER\n",
    "get_ipython().system(f'wget -O \"{model_name}\" \"{model_url}\"')"
   ]
  },
  {
   "cell_type": "code",
   "execution_count": null,
   "id": "abd99414-69c7-4454-8786-e54a49869e10",
   "metadata": {
    "tags": []
   },
   "outputs": [],
   "source": [
    "# Install a model to temporary storage\n",
    "model_url = 'https://civitai.com/api/download/models/275681'\n",
    "model_name = 'OpenDalle.safetensors'\n",
    "# ---\n",
    "\n",
    "%cd $TEMP_FOLDER\n",
    "if not path.exists(f'{CKPT_FOLDER}/{model_name}'):\n",
    "    get_ipython().system(f'wget -O \"{model_name}\" \"{model_url}\"')\n",
    "    get_ipython().system(f'ln -s {TEMP_FOLDER}/{model_name} {CKPT_FOLDER}/')\n",
    "else:\n",
    "    print(f'The file {CKPT_FOLDER}/{model_name} already exists')"
   ]
  },
  {
   "cell_type": "code",
   "execution_count": null,
   "id": "fc5f2740-159a-4da4-ac62-0bdea0efb1c3",
   "metadata": {},
   "outputs": [],
   "source": [
    "# Install a LoRA to permanent storage\n",
    "model_url = 'https://civitai.com/api/download/models/137124?type=Model&format=SafeTensor'\n",
    "model_name = 'DreamArt.safetensors'\n",
    "# ---\n",
    "\n",
    "%cd $LORA_FOLDER\n",
    "get_ipython().system(f'wget -O \"{model_name}\" \"{model_url}\"')"
   ]
  },
  {
   "cell_type": "code",
   "execution_count": null,
   "id": "6dad024a-8411-4435-9504-d32675d0d286",
   "metadata": {},
   "outputs": [],
   "source": [
    "# Install a LoRA to temporary storage\n",
    "model_url = 'https://civitai.com/api/download/models/152309?type=Model&format=SafeTensor'\n",
    "model_name = 'xl_more_art-full.safetensors'\n",
    "# ---\n",
    "\n",
    "%cd $TEMP_FOLDER\n",
    "if not path.exists(f'{LORA_FOLDER}/{model_name}'):\n",
    "    get_ipython().system(f'wget -O \"{model_name}\" \"{model_url}\"')\n",
    "    get_ipython().system(f'ln -s {TEMP_FOLDER}/{model_name} {LORA_FOLDER}/')\n",
    "else:\n",
    "    print(f'The file {LORA_FOLDER}/{model_name} already exists')"
   ]
  },
  {
   "cell_type": "code",
   "execution_count": null,
   "id": "dd34d42e-dbc5-4b6f-8241-0511a6ff2f0f",
   "metadata": {},
   "outputs": [],
   "source": [
    "# Delete links to temporary models. Run this before closing the runtime session to avoid having broken links in the next run\n",
    "get_ipython().system(f'find {CKPT_FOLDER} -maxdepth 1 -type l -delete') # delete any symlinks to temp models \n",
    "get_ipython().system(f'find {LORA_FOLDER} -maxdepth 1 -type l -delete') # delete any symlinks to temp loras "
   ]
  },
  {
   "cell_type": "code",
   "execution_count": null,
   "id": "874aca6f-ed74-4daa-b969-507db9b38196",
   "metadata": {
    "tags": []
   },
   "outputs": [],
   "source": [
    "# Find large files in permanent storage\n",
    "!find ~ -size +1G"
   ]
  }
 ],
 "metadata": {
  "kernelspec": {
   "display_name": "default:Python",
   "language": "python",
   "name": "conda-env-default-py"
  },
  "language_info": {
   "codemirror_mode": {
    "name": "ipython",
    "version": 3
   },
   "file_extension": ".py",
   "mimetype": "text/x-python",
   "name": "python",
   "nbconvert_exporter": "python",
   "pygments_lexer": "ipython3",
   "version": "3.9.16"
  }
 },
 "nbformat": 4,
 "nbformat_minor": 5
}
